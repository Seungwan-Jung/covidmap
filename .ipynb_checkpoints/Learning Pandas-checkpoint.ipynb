{
 "cells": [
  {
   "cell_type": "code",
   "execution_count": 3,
   "id": "20bde32f",
   "metadata": {},
   "outputs": [
    {
     "data": {
      "text/plain": [
       "0              Afghanistan\n",
       "1                  Albania\n",
       "2                  Algeria\n",
       "3                  Andorra\n",
       "4                   Angola\n",
       "               ...        \n",
       "3979               Vietnam\n",
       "3980    West Bank and Gaza\n",
       "3981                 Yemen\n",
       "3982                Zambia\n",
       "3983              Zimbabwe\n",
       "Name: Country_Region, Length: 3984, dtype: object"
      ]
     },
     "execution_count": 3,
     "metadata": {},
     "output_type": "execute_result"
    }
   ],
   "source": [
    "import pandas as pd\n",
    "daily_df = pd.read_csv(\"data/daily_report(21.6.6).csv\")\n",
    "daily_df[\"Country_Region\"]"
   ]
  }
 ],
 "metadata": {
  "kernelspec": {
   "display_name": "Python 3",
   "language": "python",
   "name": "python3"
  },
  "language_info": {
   "codemirror_mode": {
    "name": "ipython",
    "version": 3
   },
   "file_extension": ".py",
   "mimetype": "text/x-python",
   "name": "python",
   "nbconvert_exporter": "python",
   "pygments_lexer": "ipython3",
   "version": "3.9.4"
  }
 },
 "nbformat": 4,
 "nbformat_minor": 5
}
